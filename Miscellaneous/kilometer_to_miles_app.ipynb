{
 "cells": [
  {
   "cell_type": "code",
   "execution_count": 1,
   "metadata": {},
   "outputs": [],
   "source": [
    "import tkinter\n",
    "from tkinter import messagebox\n",
    "class KiloConverter:\n",
    "    def __init__(self):\n",
    "        #create root window\n",
    "        self.root = tkinter.Tk()\n",
    "        #Create two frames\n",
    "        #One frame for the top of the window\n",
    "        #Another frame for bottom of the window\n",
    "        self.top_frame = tkinter.Frame(self.root)\n",
    "        self.bottom_frame = tkinter.Frame(self.root)\n",
    "        #Create two labels\n",
    "        self.prompt_label = tkinter.Label(self.top_frame, text = 'Enter distance in Kilometers: ')\n",
    "        self.entry = tkinter.Entry(self.top_frame, width = 10)\n",
    "        #Pack top frame widgets\n",
    "        self.prompt_label.pack(side = 'left')\n",
    "        self.entry.pack(side = 'left')\n",
    "        #Create the button widgets\n",
    "        self.calc_button = tkinter.Button(self.bottom_frame, text = 'Convert', command = self.convert)\n",
    "        #root.destroy exits/destroys the main window\n",
    "        self.quit_button = tkinter.Button(self.bottom_frame, text = 'Quit', command = self.root.destroy)\n",
    "        #Pack the buttons\n",
    "        self.calc_button.pack(side = 'left')\n",
    "        self.quit_button.pack(side = 'left')\n",
    "        \n",
    "        #Now pack the frames also\n",
    "        self.top_frame.pack()\n",
    "        self.bottom_frame.pack()\n",
    "        tkinter.mainloop()\n",
    "        #This method converts kilometers into miles\n",
    "    def convert(self):\n",
    "        kilo = float(self.entry.get())\n",
    "        miles = kilo * 0.6214\n",
    "        tkinter.messagebox.showinfo('Results', str(kilo)+ ' kilometers is equal to ' + str(miles) + ' miles')\n",
    "gui = KiloConverter()      "
   ]
  },
  {
   "cell_type": "code",
   "execution_count": null,
   "metadata": {},
   "outputs": [],
   "source": []
  }
 ],
 "metadata": {
  "kernelspec": {
   "display_name": "Python 3",
   "language": "python",
   "name": "python3"
  },
  "language_info": {
   "codemirror_mode": {
    "name": "ipython",
    "version": 3
   },
   "file_extension": ".py",
   "mimetype": "text/x-python",
   "name": "python",
   "nbconvert_exporter": "python",
   "pygments_lexer": "ipython3",
   "version": "3.7.4"
  }
 },
 "nbformat": 4,
 "nbformat_minor": 4
}
